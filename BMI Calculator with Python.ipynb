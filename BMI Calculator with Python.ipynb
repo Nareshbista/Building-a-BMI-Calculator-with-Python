{
 "cells": [
  {
   "cell_type": "markdown",
   "id": "644a6cb3",
   "metadata": {},
   "source": [
    "# Building a BMI Calculator with Python"
   ]
  },
  {
   "cell_type": "code",
   "execution_count": 1,
   "id": "5f777f37",
   "metadata": {},
   "outputs": [
    {
     "name": "stdout",
     "output_type": "stream",
     "text": [
      "Enter you name: Naresh Bista\n",
      "Enter your weight in pounds: 165\n",
      "Enter your height in inches: 67\n",
      "25.83983069725997\n",
      "Naresh Bista, you are overweight. You need to exercise daily.\n"
     ]
    }
   ],
   "source": [
    "name = input(\"Enter you name: \")\n",
    "weight = int(input(\"Enter your weight in pounds: \"))\n",
    "height = int(input(\"Enter your height in inches: \"))\n",
    "BMI = (weight * 703) / (height * height)\n",
    "print(BMI)\n",
    "if BMI>0:\n",
    "    if(BMI<18.5):\n",
    "        print(name +\", you are underwight.\")\n",
    "    elif (BMI<=24.9):\n",
    "        print(name +\", you are normal weight.\")\n",
    "    elif (BMI<29.9):\n",
    "        print(name +\", you are overweight. You need to exercise daily.\")\n",
    "    elif (BMI<34.9):\n",
    "        print(name +\", you are obese.\")\n",
    "    elif (BMI<39.9):\n",
    "        print(name +\", you are severely obese.\")\n",
    "    else:\n",
    "        print(name +\", you are morbidly obese.\")\n",
    "else:\n",
    "    print(\"Enter valid input\")"
   ]
  },
  {
   "cell_type": "code",
   "execution_count": null,
   "id": "c2477f89",
   "metadata": {},
   "outputs": [],
   "source": [
    "#BMI = (weight in pounds x 703) / (height in inches x height in inches)"
   ]
  },
  {
   "cell_type": "code",
   "execution_count": null,
   "id": "559d5875",
   "metadata": {},
   "outputs": [],
   "source": [
    "Under 18.5 Underweight\n",
    "18.5 - 24.9 Normal Weight\n",
    "25 - 29.9 Overweight-Increased\n",
    "30 - 34.9 Obese-High\n",
    "35 - 39.9 Severely Obese-Very High\n",
    "40 and over Morbidly Obese-Extremely High\n"
   ]
  },
  {
   "cell_type": "code",
   "execution_count": null,
   "id": "92c6b8a7",
   "metadata": {},
   "outputs": [],
   "source": []
  },
  {
   "cell_type": "code",
   "execution_count": null,
   "id": "aea8ea0d",
   "metadata": {},
   "outputs": [],
   "source": []
  },
  {
   "cell_type": "code",
   "execution_count": null,
   "id": "8f1b18bb",
   "metadata": {},
   "outputs": [],
   "source": []
  },
  {
   "cell_type": "code",
   "execution_count": null,
   "id": "98815a74",
   "metadata": {},
   "outputs": [],
   "source": []
  }
 ],
 "metadata": {
  "kernelspec": {
   "display_name": "Python 3 (ipykernel)",
   "language": "python",
   "name": "python3"
  },
  "language_info": {
   "codemirror_mode": {
    "name": "ipython",
    "version": 3
   },
   "file_extension": ".py",
   "mimetype": "text/x-python",
   "name": "python",
   "nbconvert_exporter": "python",
   "pygments_lexer": "ipython3",
   "version": "3.9.13"
  }
 },
 "nbformat": 4,
 "nbformat_minor": 5
}
